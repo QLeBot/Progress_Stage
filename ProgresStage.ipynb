{
  "nbformat": 4,
  "nbformat_minor": 0,
  "metadata": {
    "colab": {
      "name": "ProgresStage.ipynb",
      "provenance": [],
      "collapsed_sections": [],
      "authorship_tag": "ABX9TyM4T2z299H5tb8vBlP5Z7YR",
      "include_colab_link": true
    },
    "kernelspec": {
      "name": "python3",
      "display_name": "Python 3"
    },
    "language_info": {
      "name": "python"
    }
  },
  "cells": [
    {
      "cell_type": "markdown",
      "metadata": {
        "id": "view-in-github",
        "colab_type": "text"
      },
      "source": [
        "<a href=\"https://colab.research.google.com/github/QLeBot/Progress_Stage/blob/main/ProgresStage.ipynb\" target=\"_parent\"><img src=\"https://colab.research.google.com/assets/colab-badge.svg\" alt=\"Open In Colab\"/></a>"
      ]
    },
    {
      "cell_type": "code",
      "source": [
        "%load_ext autoreload\n",
        "%autoreload 2"
      ],
      "metadata": {
        "id": "uaAjRosq1tkF"
      },
      "execution_count": 5,
      "outputs": []
    },
    {
      "cell_type": "code",
      "execution_count": 1,
      "metadata": {
        "colab": {
          "base_uri": "https://localhost:8080/"
        },
        "id": "sVczTGZZzuAl",
        "outputId": "d0b11c77-0318-4125-d3ab-7b3ecc298b8e"
      },
      "outputs": [
        {
          "output_type": "stream",
          "name": "stdout",
          "text": [
            "Tu dois travailler 63 jours au total (sans j. fériés)\n",
            "Il te reste 59 jours à travailler (sans j. fériés)\n",
            "Va manger, j'ai faim\n",
            "Il te reste 180 minutes de boulot pour la journée, soit 3 heure(s) et 0 minutes\n",
            "Il te reste 409 heures et 0 minutes avant la fin de ton stage\n",
            "Tu as donc fait 7.256235827664403 % de ton stage\n"
          ]
        }
      ],
      "source": [
        "from datetime import date , datetime\n",
        "import random\n",
        "horaire_debut=\"9:00\"\n",
        "horaire_fin=\"17:00\"\n",
        "heure_debut_repas=\"12:00\"\n",
        "heure_fin_repas=\"14:00\"\n",
        "\n",
        "\n",
        "liste_jour_conge=[date(2022, 7, 14),date(2022, 8, 15)]\n",
        "\n",
        "start_date = date(year = 2022, month =6, day=20)\n",
        "end_date = date(year=2022, month=9, day=16)\n",
        "delta = end_date - start_date\n",
        "nb_jour_tot = delta.days+1-(delta.days//7)*2\n",
        "#print(\"Tu dois travailler {} jours au total\".format(nb_jour_tot))\n",
        "\n",
        "for jour_conge in liste_jour_conge :\n",
        "    if jour_conge>start_date:\n",
        "        if jour_conge<end_date:\n",
        "            nb_jour_tot-=1\n",
        "print(\"Tu dois travailler {} jours au total (sans j. fériés)\".format(nb_jour_tot))\n",
        "\n",
        "today = date.today()\n",
        "delta = end_date - today\n",
        "nb_jour_restant = delta.days+1-(delta.days//7)*2\n",
        "#print(\"Il te reste {} jours à travailler\".format(nb_jour_restant))\n",
        "\n",
        "for jour_conge in liste_jour_conge :\n",
        "    if jour_conge>today:\n",
        "        if jour_conge<end_date:\n",
        "            nb_jour_restant-=1\n",
        "print(\"Il te reste {} jours à travailler (sans j. fériés)\".format(nb_jour_restant))\n",
        "\n",
        "########HEURE###########\n",
        "\n",
        "time_start = datetime.strptime(horaire_debut,\"%H:%M\")\n",
        "time_end = datetime.strptime(horaire_fin,\"%H:%M\")\n",
        "\n",
        "time_start_miam = datetime.strptime(heure_debut_repas,\"%H:%M\")\n",
        "time_fin_miam = datetime.strptime(heure_fin_repas,\"%H:%M\")\n",
        "\n",
        "time_interval = time_end - time_start\n",
        "time_now = str(datetime.now().hour)+\":\"+str(datetime.now().minute)\n",
        "time_now = datetime.strptime(time_now,\"%H:%M\")\n",
        "\n",
        "nb_minute_restant=nb_jour_restant*7*60\n",
        "nb_minute_restant_j=0\n",
        "if (time_end<time_now):\n",
        "    time_avant_fin_j =  time_now - time_end\n",
        "    hours = time_avant_fin_j.seconds//3600\n",
        "    minutes = time_avant_fin_j.seconds%60\n",
        "    print(\"Frérot rentre chez toi, t'as finis le boulot depuis {} heures et {} minutes.\\nT'es pas payé pour faire des heures sup.\".format(hours,minutes))\n",
        "\n",
        "elif (time_now<time_start_miam):\n",
        "    #avant le repas\n",
        "    time_avant_fin_j =  time_start_miam - time_now\n",
        "    minutes = (time_avant_fin_j.seconds)//60\n",
        "    nb_minute_restant_j=minutes\n",
        "    print(\"Plus que {} minutes avant la pause repas, Courage!\".format(minutes))\n",
        "    time_avant_fin_j =  time_end - time_fin_miam\n",
        "    minutes = (time_avant_fin_j.seconds)//60\n",
        "    nb_minute_restant_j+=minutes\n",
        "\n",
        "elif (time_now>time_fin_miam):\n",
        "    #après le repas\n",
        "    time_avant_fin_j =  time_end - time_now\n",
        "    minutes = (time_avant_fin_j.seconds)//60\n",
        "    nb_minute_restant_j=minutes\n",
        "\n",
        "else :\n",
        "    #pendant le repas\n",
        "    print(\"Va manger, j'ai faim\")\n",
        "    time_avant_fin_j =  time_end - time_fin_miam\n",
        "    minutes = (time_avant_fin_j.seconds)//60\n",
        "    nb_minute_restant_j=minutes\n",
        "\n",
        "print(\"Il te reste {} minutes de boulot pour la journée, soit {} heure(s) et {} minutes\".format(nb_minute_restant_j,nb_minute_restant_j//60,nb_minute_restant_j%60))\n",
        "\n",
        "nb_minute_restant = (nb_jour_restant-1)*7*60 + nb_minute_restant_j\n",
        "\n",
        "print(\"Il te reste {} heures et {} minutes avant la fin de ton stage\".format(nb_minute_restant//60,nb_minute_restant_j%60))\n",
        "print(\"Tu as donc fait {} % de ton stage\".format((1-(nb_minute_restant/ (nb_jour_tot*7*60) ))*100))"
      ]
    }
  ]
}